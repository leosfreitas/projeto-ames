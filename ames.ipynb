{
 "cells": [
  {
   "cell_type": "code",
   "execution_count": 8,
   "metadata": {},
   "outputs": [],
   "source": [
    "import pandas as pd\n",
    "import pickle\n",
    "import pathlib\n",
    "import numpy as np"
   ]
  },
  {
   "cell_type": "markdown",
   "metadata": {},
   "source": [
    "# Loading the data"
   ]
  },
  {
   "cell_type": "code",
   "execution_count": 9,
   "metadata": {},
   "outputs": [],
   "source": [
    "# Define the base directory for the data and the path to the processed file\n",
    "DATA_DIR = pathlib.Path.cwd() / 'data'\n",
    "clean_data_path = DATA_DIR / 'ames_clean.pkl'\n",
    "\n",
    "# Load the processed dataset from a pickle file\n",
    "# This dataset should already be cleaned and prepared\n",
    "with open(clean_data_path, 'rb') as file:\n",
    "    data = pickle.load(file)\n",
    "\n",
    "# Make a copy of the loaded dataset to avoid modifying the original\n",
    "model_data = data.copy()\n",
    "\n",
    "# Lists to store nominal and ordinal categorical columns\n",
    "categorical_columns = []\n",
    "ordinal_columns = []\n",
    "# Identify the categorical columns in the dataset\n",
    "# Split them into ordinal (with implicit order) and nominal (without order)\n",
    "for col in model_data.select_dtypes('category').columns:\n",
    "    if model_data[col].cat.ordered:  # Check if the column is ordinal\n",
    "        ordinal_columns.append(col)\n",
    "    else:  # Otherwise, treat it as nominal\n",
    "        categorical_columns.append(col)\n",
    "\n",
    "# Encode ordinal columns with integer values while preserving the order\n",
    "# Example: [\"low\", \"medium\", \"high\"] → [0, 1, 2]\n",
    "for col in ordinal_columns:\n",
    "    codes, _ = pd.factorize(data[col], sort=True)\n",
    "    model_data[col] = codes\n",
    "\n",
    "# Apply One-Hot Encoding to nominal categorical columns\n",
    "# Create binary columns for each category except the first (drop_first=True)\n",
    "# This reduces multicollinearity, useful for linear models\n",
    "model_data = pd.get_dummies(model_data, drop_first=True)"
   ]
  },
  {
   "cell_type": "markdown",
   "metadata": {},
   "source": [
    "# Reason for no further feature engineering"
   ]
  },
  {
   "cell_type": "markdown",
   "metadata": {},
   "source": [
    "In this analysis, no further feature engineering was performed, as the dataset was already well-prepared and structured to support reliable modeling. The following points outline the rationale for this approach, including specific examples of transformations previously performed during the preprocessing phase:\n",
    "\n",
    "1. **High Data Quality:**  \n",
    "   The dataset had undergone thorough preprocessing, ensuring that any missing values or inconsistencies were resolved. For instance, features that did not make sense to remain separate were logically combined, improving coherence and reducing redundancy. This meticulous cleaning provided a strong foundation for modeling.\n",
    "\n",
    "2. **Adequate Feature Set:**  \n",
    "   The existing features captured the key patterns relevant to the predictive task. For example, irrelevant features had already been removed to eliminate noise and enhance the dataset's focus on variables with predictive value. Thus, further modifications were deemed unnecessary.\n",
    "\n",
    "3. **Avoiding Overfitting and Complexity:**  \n",
    "   Keeping the dataset simple helped mitigate overfitting risks. Transformations such as converting the target variable (`SalePrice`) to a logarithmic scale were applied where necessary to normalize distributions and improve model performance. However, introducing new transformations at this stage could have added complexity without tangible benefits.\n",
    "\n",
    "4. **Streamlined Approach:**  \n",
    "   The dataset’s structure was optimized for modeling, balancing complexity and interpretability. For example, the removal of irrelevant or redundant features ensured the model could concentrate on meaningful information. Additional engineering was avoided to maintain a clear and efficient modeling pipeline.\n",
    "\n",
    "5. **Practical Performance:**  \n",
    "   Preliminary evaluations confirmed that the current features supported reliable predictions. With the data already refined—e.g., through targeted transformations like the log scaling of `SalePrice`—no further engineering was needed to enhance performance for the given context.\n",
    "\n",
    "### Conclusion  \n",
    "\n",
    "The decision to forgo further feature engineering was intentional, prioritizing simplicity while leveraging the preprocessing steps already performed. By relying on a well-prepared dataset that addressed key challenges like feature relevance and target distribution, the modeling process remained efficient, interpretable, and capable of delivering dependable results."
   ]
  },
  {
   "cell_type": "markdown",
   "metadata": {},
   "source": [
    "# Splitting the data into train and test"
   ]
  },
  {
   "cell_type": "code",
   "execution_count": 10,
   "metadata": {},
   "outputs": [],
   "source": [
    "from sklearn.model_selection import train_test_split\n",
    "\n",
    "RANDOM_SEED = 42 \n",
    "\n",
    "X = model_data.drop('SalePrice', axis=1).copy()\n",
    "y = model_data['SalePrice'].copy()\n",
    "\n",
    "Xtrain, Xtest, ytrain, ytest = train_test_split(\n",
    "    X,\n",
    "    y,\n",
    "    test_size=0.20,\n",
    "    random_state=RANDOM_SEED,\n",
    ")"
   ]
  },
  {
   "cell_type": "markdown",
   "metadata": {},
   "source": [
    "# Training Different Models"
   ]
  },
  {
   "cell_type": "markdown",
   "metadata": {},
   "source": [
    "### Function to print RMSE and error percentage"
   ]
  },
  {
   "cell_type": "code",
   "execution_count": 11,
   "metadata": {},
   "outputs": [],
   "source": [
    "from sklearn.metrics import mean_squared_error\n",
    "\n",
    "def print_errors(y_true, y_pred):\n",
    "    \"\"\"Shows RMSE and error percentage for a model's predictions.\"\"\"\n",
    "    rmse = np.sqrt(mean_squared_error(y_true, y_pred))\n",
    "    error_percent = 100 * (10 ** rmse -1)\n",
    "\n",
    "    print(f'RMSE: {rmse:.4f}')\n",
    "    print(f'Average error: {error_percent:.2f}%')"
   ]
  },
  {
   "cell_type": "markdown",
   "metadata": {},
   "source": [
    "### Creating lists to store the results"
   ]
  },
  {
   "cell_type": "code",
   "execution_count": null,
   "metadata": {},
   "outputs": [],
   "source": [
    "list_models = []\n",
    "list_averror = []\n",
    "list_rmse = []"
   ]
  },
  {
   "cell_type": "markdown",
   "metadata": {},
   "source": [
    "### Linear Regression"
   ]
  },
  {
   "cell_type": "code",
   "execution_count": 12,
   "metadata": {},
   "outputs": [
    {
     "name": "stdout",
     "output_type": "stream",
     "text": [
      "RMSE: 0.0583\n",
      "Average error: 14.37%\n"
     ]
    }
   ],
   "source": [
    "from sklearn.linear_model import LinearRegression\n",
    "\n",
    "model = LinearRegression()\n",
    "\n",
    "model.fit(Xtrain, ytrain)\n",
    "\n",
    "ypred = model.predict(Xtest)\n",
    "\n",
    "print_errors(ytest, ypred)"
   ]
  },
  {
   "cell_type": "markdown",
   "metadata": {},
   "source": [
    "### Random Forest Regressor"
   ]
  },
  {
   "cell_type": "code",
   "execution_count": 14,
   "metadata": {},
   "outputs": [
    {
     "name": "stderr",
     "output_type": "stream",
     "text": [
      "c:\\Users\\leosf\\AppData\\Local\\Programs\\Python\\Python312\\Lib\\site-packages\\numpy\\ma\\core.py:2881: RuntimeWarning: invalid value encountered in cast\n",
      "  _data = np.array(data, dtype=dtype, copy=copy,\n"
     ]
    },
    {
     "name": "stdout",
     "output_type": "stream",
     "text": [
      "Best Hyperparameters: {'bootstrap': True, 'max_depth': 20, 'min_samples_leaf': 2, 'min_samples_split': 2, 'n_estimators': 200}\n",
      "RMSE: 0.0565\n",
      "Average error: 13.90%\n"
     ]
    }
   ],
   "source": [
    "from sklearn.ensemble import RandomForestRegressor\n",
    "from sklearn.model_selection import GridSearchCV\n",
    "\n",
    "rf_model = RandomForestRegressor(random_state=42)\n",
    "\n",
    "param_grid = {\n",
    "    'n_estimators': [100, 200, 300],    \n",
    "    'max_depth': [10, 20],          \n",
    "    'min_samples_split': [2, 5],     \n",
    "    'min_samples_leaf': [2, 4],        \n",
    "    'bootstrap': [True]\n",
    "}\n",
    "\n",
    "grid_search = GridSearchCV(\n",
    "    estimator=rf_model,\n",
    "    param_grid=param_grid,\n",
    "    cv=5, \n",
    "    scoring='neg_mean_squared_error',\n",
    "    n_jobs=-1\n",
    ")\n",
    "\n",
    "grid_search.fit(Xtrain, ytrain)\n",
    "\n",
    "best_rf_model = grid_search.best_estimator_\n",
    "\n",
    "y_pred = best_rf_model.predict(Xtest)\n",
    "\n",
    "print(f\"Best Hyperparameters: {grid_search.best_params_}\")\n",
    "print_errors(ytest, y_pred)\n",
    "\n",
    "# Adds the model to the list of models\n",
    "list_models.append('Random Forest Regressor')\n",
    "rmse = np.sqrt(mean_squared_error(ytest, y_pred))\n",
    "list_rmse.append(rmse)\n",
    "list_averror.append(100 * (10 ** rmse -1))"
   ]
  },
  {
   "cell_type": "markdown",
   "metadata": {},
   "source": [
    "### Decision Tree Regressor"
   ]
  },
  {
   "cell_type": "code",
   "execution_count": 15,
   "metadata": {},
   "outputs": [
    {
     "name": "stdout",
     "output_type": "stream",
     "text": [
      "Best Hyperparameters: {'max_depth': 10, 'min_samples_leaf': 4, 'min_samples_split': 10}\n",
      "RMSE: 0.0763\n",
      "Average error: 19.20%\n"
     ]
    }
   ],
   "source": [
    "from sklearn.tree import DecisionTreeRegressor\n",
    "from sklearn.model_selection import GridSearchCV\n",
    "\n",
    "dt_model = DecisionTreeRegressor(random_state=42)\n",
    "\n",
    "param_grid = {\n",
    "    'max_depth': [10, 20, 30],          \n",
    "    'min_samples_split': [2, 5, 10],     \n",
    "    'min_samples_leaf': [1, 2, 4]        \n",
    "}\n",
    "\n",
    "grid_search = GridSearchCV(\n",
    "    estimator=dt_model,\n",
    "    param_grid=param_grid,\n",
    "    cv=5, \n",
    "    scoring='neg_mean_squared_error',\n",
    "    n_jobs=-1\n",
    ")\n",
    "\n",
    "grid_search.fit(Xtrain, ytrain)\n",
    "\n",
    "best_dt_model = grid_search.best_estimator_\n",
    "\n",
    "y_pred = best_dt_model.predict(Xtest)\n",
    "\n",
    "print(f\"Best Hyperparameters: {grid_search.best_params_}\")\n",
    "print_errors(ytest, y_pred)\n",
    "\n",
    "# Adds the model to the list of models\n",
    "list_models.append('Decision Tree Regressor')\n",
    "rmse = np.sqrt(mean_squared_error(ytest, y_pred))\n",
    "list_rmse.append(rmse)\n",
    "list_averror.append(100 * (10 ** rmse -1))"
   ]
  },
  {
   "cell_type": "markdown",
   "metadata": {},
   "source": [
    "### Ridge Regression "
   ]
  },
  {
   "cell_type": "code",
   "execution_count": 16,
   "metadata": {},
   "outputs": [
    {
     "name": "stdout",
     "output_type": "stream",
     "text": [
      "Best Hyperparameters: {'alpha': 1}\n",
      "RMSE: 0.0582\n",
      "Average error: 14.33%\n"
     ]
    }
   ],
   "source": [
    "from sklearn.linear_model import Ridge\n",
    "from sklearn.model_selection import GridSearchCV\n",
    "\n",
    "ridge_model = Ridge(random_state=42)\n",
    "\n",
    "param_grid = {\n",
    "    'alpha': [0.1, 1, 10, 100, 1000]\n",
    "}\n",
    "\n",
    "grid_search = GridSearchCV(\n",
    "    estimator=ridge_model,\n",
    "    param_grid=param_grid,\n",
    "    cv=5, \n",
    "    scoring='neg_mean_squared_error',\n",
    "    n_jobs=-1\n",
    ")\n",
    "\n",
    "grid_search.fit(Xtrain, ytrain)\n",
    "\n",
    "best_ridge_model = grid_search.best_estimator_\n",
    "\n",
    "y_pred = best_ridge_model.predict(Xtest)\n",
    "\n",
    "print(f\"Best Hyperparameters: {grid_search.best_params_}\")\n",
    "print_errors(ytest, y_pred)\n",
    "\n",
    "# Adds the model to the list of models\n",
    "list_models.append('Ridge Regressor')\n",
    "rmse = np.sqrt(mean_squared_error(ytest, y_pred))\n",
    "list_rmse.append(rmse)\n",
    "list_averror.append(100 * (10 ** rmse -1))"
   ]
  },
  {
   "cell_type": "markdown",
   "metadata": {},
   "source": [
    "### XGBoost Regressor"
   ]
  },
  {
   "cell_type": "code",
   "execution_count": 17,
   "metadata": {},
   "outputs": [
    {
     "name": "stdout",
     "output_type": "stream",
     "text": [
      "Best Hyperparameters: {'colsample_bytree': 0.8, 'learning_rate': 0.05, 'max_depth': 3, 'n_estimators': 700, 'subsample': 0.8}\n",
      "RMSE: 0.0466\n",
      "Average error: 11.32%\n"
     ]
    }
   ],
   "source": [
    "from sklearn.model_selection import GridSearchCV\n",
    "from xgboost import XGBRegressor\n",
    "\n",
    "xgb_model = XGBRegressor(random_state=42)\n",
    "\n",
    "param_grid = {\n",
    "    'n_estimators': [500, 600, 700],   # Number of boosting rounds\n",
    "    'max_depth': [3, 5, 7],            # Maximum depth of the trees\n",
    "    'learning_rate': [0.05, 0.1, 0.2], # Step size shrinkage\n",
    "    'subsample': [0.8, 1.0],           # Fraction of samples used for training each tree\n",
    "    'colsample_bytree': [0.8, 1.0]     # Fraction of features used for training each tree\n",
    "}\n",
    "\n",
    "grid_search = GridSearchCV(\n",
    "    estimator=xgb_model,\n",
    "    param_grid=param_grid,\n",
    "    cv=5, \n",
    "    scoring='neg_mean_squared_error',\n",
    "    n_jobs=-1\n",
    ")\n",
    "\n",
    "grid_search.fit(Xtrain, ytrain)\n",
    "\n",
    "best_xgb_model = grid_search.best_estimator_\n",
    "\n",
    "y_pred = best_xgb_model.predict(Xtest)\n",
    "\n",
    "print(f\"Best Hyperparameters: {grid_search.best_params_}\")\n",
    "print_errors(ytest, y_pred)\n",
    "\n",
    "# Adds the model to the list of models\n",
    "list_models.append('XGBoost Regressor')\n",
    "rmse = np.sqrt(mean_squared_error(ytest, y_pred))\n",
    "list_rmse.append(rmse)\n",
    "list_averror.append(100 * (10 ** rmse -1))"
   ]
  },
  {
   "cell_type": "markdown",
   "metadata": {},
   "source": [
    "### Ada Boost Regressor"
   ]
  },
  {
   "cell_type": "code",
   "execution_count": 18,
   "metadata": {},
   "outputs": [
    {
     "name": "stdout",
     "output_type": "stream",
     "text": [
      "Best Hyperparameters: {'learning_rate': 0.1, 'n_estimators': 200}\n",
      "RMSE: 0.0738\n",
      "Average error: 18.53%\n"
     ]
    }
   ],
   "source": [
    "from sklearn.ensemble import AdaBoostRegressor\n",
    "from sklearn.model_selection import GridSearchCV\n",
    "\n",
    "ada_model = AdaBoostRegressor(random_state=42)\n",
    "\n",
    "param_grid = {\n",
    "    'n_estimators': [50, 100, 200],    \n",
    "    'learning_rate': [0.01, 0.1, 1.0],     \n",
    "}\n",
    "\n",
    "grid_search = GridSearchCV(\n",
    "    estimator=ada_model,\n",
    "    param_grid=param_grid,\n",
    "    cv=5, \n",
    "    scoring='neg_mean_squared_error',\n",
    "    n_jobs=-1\n",
    ")\n",
    "\n",
    "grid_search.fit(Xtrain, ytrain)\n",
    "\n",
    "best_ada_model = grid_search.best_estimator_\n",
    "\n",
    "y_pred = best_ada_model.predict(Xtest)\n",
    "\n",
    "print(f\"Best Hyperparameters: {grid_search.best_params_}\")\n",
    "print_errors(ytest, y_pred)\n",
    "\n",
    "# Adds the model to the list of models\n",
    "list_models.append('Ada Boost Regressor')\n",
    "rmse = np.sqrt(mean_squared_error(ytest, y_pred))\n",
    "list_rmse.append(rmse)\n",
    "list_averror.append(100 * (10 ** rmse -1))"
   ]
  },
  {
   "cell_type": "markdown",
   "metadata": {},
   "source": [
    "# Comparing the models"
   ]
  },
  {
   "cell_type": "code",
   "execution_count": 19,
   "metadata": {},
   "outputs": [
    {
     "data": {
      "image/png": "[encoded data removed]",
      "text/plain": [
       "<Figure size 1200x600 with 2 Axes>"
      ]
     },
     "metadata": {},
     "output_type": "display_data"
    }
   ],
   "source": [
    "import matplotlib.pyplot as plt\n",
    "\n",
    "fig, ax = plt.subplots(1, 2, figsize=(12, 6))\n",
    "\n",
    "ax[0].barh(list_models, list_rmse, color='skyblue')\n",
    "ax[0].set_xlabel('RMSE')\n",
    "ax[0].set_title('Root Mean Squared Error')\n",
    "\n",
    "ax[1].barh(list_models, list_averror, color='salmon')\n",
    "ax[1].set_xlabel('Average Error (%)')\n",
    "ax[1].set_title('Average Error')\n",
    "\n",
    "plt.tight_layout()\n",
    "plt.show()"
   ]
  },
  {
   "cell_type": "markdown",
   "metadata": {},
   "source": [
    "# Choosing the best model:"
   ]
  },
  {
   "cell_type": "markdown",
   "metadata": {},
   "source": [
    "Based on the comparison of the selected models, the **XGBoost Regressor** was identified as the most suitable model in this context due to its combination of computational efficiency and high predictive accuracy. It effectively handles the logarithmic transformation of the data and delivers consistent predictions, both in absolute and relative terms. With an average error of 11.32%, the model provides reliable general estimates of prices, making it valuable for applications where approximate values are sufficient.\n",
    "\n",
    "#### Business Implications\n",
    "1. **Strengths of the Model:**\n",
    "   - The model is well-suited for scenarios requiring general price estimates, such as strategic planning, market analysis, or trend forecasting.\n",
    "   - Its efficiency and ease of deployment make it a practical choice for business use, especially in environments with limited computational resources.\n",
    "\n",
    "2. **Limitations:**\n",
    "   - The lack of precision limits its use in critical decision-making scenarios, such as high-value property valuations or financial transactions requiring low margins of error.\n",
    "   - Applications demanding highly detailed analyses may require additional refinement or alternative modeling approaches.\n",
    "\n",
    "In conclusion, while the **XGBoost Regressor** performs well for general-purpose predictions, its limitations highlight the importance of aligning the model's capabilities with the specific needs of the business application. This ensures that the model adds value without compromising decision-making in critical areas."
   ]
  },
  {
   "cell_type": "markdown",
   "metadata": {},
   "source": [
    "# Getting the 10 most important features that affect the price of a house"
   ]
  },
  {
   "cell_type": "code",
   "execution_count": 20,
   "metadata": {},
   "outputs": [
    {
     "data": {
      "image/png": "[encoded data removed]",
      "text/plain": [
       "<Figure size 1000x600 with 1 Axes>"
      ]
     },
     "metadata": {},
     "output_type": "display_data"
    }
   ],
   "source": [
    "import pandas as pd\n",
    "import matplotlib.pyplot as plt\n",
    "\n",
    "# Feature importance\n",
    "feature_importances = best_xgb_model.feature_importances_\n",
    "\n",
    "# Creates a DataFrame with the feature importance\n",
    "importance_df = pd.DataFrame({\n",
    "    'Feature': Xtrain.columns,\n",
    "    'Importance': feature_importances\n",
    "}).sort_values(by='Importance', ascending=False)\n",
    "\n",
    "importance_df = importance_df.head(10)\n",
    "\n",
    "# Plot important features\n",
    "plt.figure(figsize=(10, 6))\n",
    "plt.barh(importance_df['Feature'], importance_df['Importance'], color='skyblue')\n",
    "plt.gca().invert_yaxis()  # Inverts the y-axis to show the most important feature on top\n",
    "plt.title('Feature Importance - XGBoost Regressor')\n",
    "plt.xlabel('Importance')\n",
    "plt.ylabel('Feature')\n",
    "plt.show()"
   ]
  },
  {
   "cell_type": "markdown",
   "metadata": {},
   "source": [
    "Based on the feature importance graph from the XGBoost Regressor, the most critical features in determining property prices are **ExterQual** (external quality of the property), **OverallQual** (overall material and finish quality), and **GarageCars** (the number of cars that fit in the garage). These features significantly influence the model's predictions, indicating their strong correlation with property pricing. Other relevant features include **KitchenQual** (kitchen quality) and **GrLivArea** (above-ground living area), which also contribute to price determination. This highlights the model's capacity to identify key physical and qualitative property attributes as drivers of price."
   ]
  }
 ],
 "metadata": {
  "kernelspec": {
   "display_name": "Python 3",
   "language": "python",
   "name": "python3"
  },
  "language_info": {
   "codemirror_mode": {
    "name": "ipython",
    "version": 3
   },
   "file_extension": ".py",
   "mimetype": "text/x-python",
   "name": "python",
   "nbconvert_exporter": "python",
   "pygments_lexer": "ipython3",
   "version": "3.12.6"
  }
 },
 "nbformat": 4,
 "nbformat_minor": 2
}
